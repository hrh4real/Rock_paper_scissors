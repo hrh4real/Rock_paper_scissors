import sys
import random # for computer choice 
from enum import Enum

def rps():

    game_count = 0
    player_wins = 0
    python_wins = 0

    def play_rps():

        nonlocal player_wins
        nonlocal python_wins

        class RPS(Enum):
            ROCK = 1
            PAPER = 2
            SCISSORS = 3 # All caps means constant variables

        playerchoice = input("\nEnter....\n1 for Rock, \n2 for Paper, or \n3 for Scissors : \n\n")

        if playerchoice not in ["1","2","3"]:
            print("You must choose between 1, 2, or 3")
            return play_rps()
        player = int(playerchoice)

        # if player < 1 or player > 3 :
        #     sys.exit("You must enter a valid option.")

        computerchoice = random.choice("123") # computer is randomly selecting between the string
        computer = int(computerchoice)

        # print("You chose " + playerchoice + ".") # standard method
        print(f"\nYou chose {str(RPS(player)).replace('RPS.', '')}.") # alternate using class
        print(f"\nComputer chose {str(RPS(computer)).replace('RPS.', '')}.\n")
        
        def decide_winner(player, computer):
            nonlocal player_wins
            nonlocal python_wins
            if player == computer :
                return "🥸 Draw !"
            elif player == 1 and computer == 3 :
                player_wins += 1
                return "🥳 You Won"
            elif player == 2 and computer == 1 :
                player_wins += 1
                return "🥳 You Won"
            elif player == 3 and computer == 2 :
                player_wins += 1
                return "🥳 You Win"
            else :
                python_wins += 1
                return "🐍 Python wins"
        
        game_result = decide_winner(player, computer)

        print(game_result)

        nonlocal game_count
        game_count += 1

        print(f"\nGame Count  : {str(game_count)}")
        print(f"\nPlayer Wins :  {str(player_wins)}")
        print(f"\nPython Wins :  {str(python_wins)}")

        print("\nPlay Again ? ")
        while True:
            playagain = input("\nY for Yes or \nQ to Quit \n")
            if playagain.lower() not in ["y", "q"]:
                continue
            else :
                break
        if playagain.lower() == "y" :
            return play_rps()
        else :
            print("\nthanks for playing ! \n")
            playagain = False
    return play_rps



rock_paper_scissors = rps()

if __name__ == "__main__":
    rock_paper_scissors() # added as module 

